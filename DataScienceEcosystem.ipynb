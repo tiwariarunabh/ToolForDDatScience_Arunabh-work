{
 "cells": [
  {
   "cell_type": "markdown",
   "id": "45d8ca3e",
   "metadata": {},
   "source": [
    "# Data Science Tools and Ecosystem"
   ]
  },
  {
   "cell_type": "markdown",
   "id": "523d59ad",
   "metadata": {},
   "source": [
    "In this notebook, Data Science Tools and Ecosystem are summarized."
   ]
  },
  {
   "cell_type": "markdown",
   "id": "7cb6934f",
   "metadata": {},
   "source": [
    "                                    Objectives:\n",
    "\n",
    "List popular languages that Data Scientists use.\n",
    "List commonly used libraries used by Data Scientists.\n",
    "Comment on Data Science tools."
   ]
  },
  {
   "cell_type": "markdown",
   "id": "f1356d19",
   "metadata": {},
   "source": [
    "Some of the popular languages that Data Scientists use are:\n",
    "\n",
    "Python.\n",
    "R.\n",
    "SQL.\n",
    "Java.\n",
    "Julia.\n",
    "Scala.\n",
    "C/C++.\n",
    "JavaScript."
   ]
  },
  {
   "cell_type": "markdown",
   "id": "a7666c83",
   "metadata": {},
   "source": [
    "Some of the commonly used libraries used by Data Scientists include:\n",
    "\n",
    "TensorFlow.\n",
    "NumPy.\n",
    "SciPy.\n",
    "Pandas.\n",
    "Matplotlib.\n",
    "Keras.\n",
    "SciKit-Learn.\n",
    "PyTorch.\n",
    "Scrapy.\n",
    "BeautifulSoup.\n",
    "LightGBM.\n",
    "ELI5.\n",
    "Theano.\n",
    "NuPIC.\n",
    "Ramp.\n",
    "Pipenv.\n",
    "Bob.\n",
    "PyBrain.\n",
    "Caffe2.\n",
    "Chainer."
   ]
  },
  {
   "cell_type": "markdown",
   "id": "3459a60b",
   "metadata": {},
   "source": [
    "                                            Data Science Tools\n",
    "\n",
    "SAS. It is one of those data science tools which are specifically designed for statistical operation\n",
    "\n",
    "Apache Spark\n",
    "\n",
    "BigML"
   ]
  },
  {
   "cell_type": "code",
   "execution_count": 2,
   "id": "b8319b60",
   "metadata": {},
   "outputs": [
    {
     "data": {
      "text/plain": [
       "9"
      ]
     },
     "execution_count": 2,
     "metadata": {},
     "output_type": "execute_result"
    }
   ],
   "source": [
    "# Arithmetic operations\n",
    "code = compile(\"5 + 4\", \"<string>\", \"eval\")\n",
    "eval(code)\n"
   ]
  },
  {
   "cell_type": "code",
   "execution_count": 3,
   "id": "03d988a7",
   "metadata": {},
   "outputs": [
    {
     "data": {
      "text/plain": [
       "24"
      ]
     },
     "execution_count": 3,
     "metadata": {},
     "output_type": "execute_result"
    }
   ],
   "source": [
    "code1 = compile(\"(5 + 7) * 2\", \"<string>\", \"eval\")\n",
    "eval(code1)\n"
   ]
  },
  {
   "cell_type": "code",
   "execution_count": 4,
   "id": "3808409a",
   "metadata": {},
   "outputs": [
    {
     "data": {
      "text/plain": [
       "65449.84694978735"
      ]
     },
     "execution_count": 4,
     "metadata": {},
     "output_type": "execute_result"
    }
   ],
   "source": [
    "import math\n",
    "# Volume of a sphere\n",
    "code2 = compile(\"4 / 3 * math.pi * math.pow(25, 3)\", \"<string>\", \"eval\")\n",
    "eval(code2)\n"
   ]
  },
  {
   "cell_type": "code",
   "execution_count": 5,
   "id": "fa394c52",
   "metadata": {},
   "outputs": [
    {
     "data": {
      "text/plain": [
       "17"
      ]
     },
     "execution_count": 5,
     "metadata": {},
     "output_type": "execute_result"
    }
   ],
   "source": [
    "(3*4)+5\n",
    "# Result: 17"
   ]
  },
  {
   "cell_type": "code",
   "execution_count": 6,
   "id": "fb95402a",
   "metadata": {},
   "outputs": [
    {
     "name": "stdout",
     "output_type": "stream",
     "text": [
      "0 days, 3.3333333333333335 hours, 0 mins. \n"
     ]
    }
   ],
   "source": [
    "days = 0\n",
    "hours = 0\n",
    "mins = 0\n",
    "\n",
    "time = 200\n",
    "#days = time / 1440\n",
    "leftover_minutes = time % 1440\n",
    "hours = leftover_minutes / 60\n",
    "#mins = time - (days*1440) - (hours*60)\n",
    "print(str(days) + \" days, \" + str(hours) + \" hours, \" + str(mins) +  \" mins. \")\n",
    "\n"
   ]
  },
  {
   "cell_type": "markdown",
   "id": "1e51ff7b",
   "metadata": {},
   "source": [
    "Author:\n",
    "Arunabh Tiwari"
   ]
  }
 ],
 "metadata": {
  "kernelspec": {
   "display_name": "Python 3 (ipykernel)",
   "language": "python",
   "name": "python3"
  },
  "language_info": {
   "codemirror_mode": {
    "name": "ipython",
    "version": 3
   },
   "file_extension": ".py",
   "mimetype": "text/x-python",
   "name": "python",
   "nbconvert_exporter": "python",
   "pygments_lexer": "ipython3",
   "version": "3.9.7"
  }
 },
 "nbformat": 4,
 "nbformat_minor": 5
}
